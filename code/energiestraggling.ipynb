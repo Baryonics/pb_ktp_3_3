{
 "cells": [
  {
   "cell_type": "markdown",
   "metadata": {},
   "source": [
    "# FWHM als Funktion von $\\rho \\cdot x$\n",
    "\n",
    "mit $$\\rho(p) = \\frac{\\rho_0}{p_0} \\cdot p$$\n",
    "\n",
    "wobei $\\rho_0 = 1,225 \\frac{kg}{m^3}$ und $p_0 = 1013mbar$"
   ]
  },
  {
   "cell_type": "markdown",
   "metadata": {},
   "source": []
  }
 ],
 "metadata": {
  "kernelspec": {
   "display_name": "Julia 1.10.2",
   "language": "julia",
   "name": "julia-1.10"
  },
  "language_info": {
   "file_extension": ".jl",
   "mimetype": "application/julia",
   "name": "julia",
   "version": "1.10.2"
  }
 },
 "nbformat": 4,
 "nbformat_minor": 2
}
